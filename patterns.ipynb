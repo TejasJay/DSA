{
 "cells": [
  {
   "cell_type": "markdown",
   "id": "4aea8424",
   "metadata": {},
   "source": [
    "## 1. For outer loop (i) count the number of lines\n",
    "## 2. For the inner loop (j) focus on the columns"
   ]
  },
  {
   "cell_type": "markdown",
   "id": "134f689b",
   "metadata": {},
   "source": []
  },
  {
   "cell_type": "markdown",
   "id": "0d4e5571",
   "metadata": {},
   "source": [
    "# Pattern 1"
   ]
  },
  {
   "cell_type": "markdown",
   "id": "73e8d669",
   "metadata": {},
   "source": [
    "# * * * *\n",
    "# * * * *\n",
    "# * * * *\n",
    "# * * * *"
   ]
  },
  {
   "cell_type": "markdown",
   "id": "590adbe4",
   "metadata": {},
   "source": [
    "0th row -> 4 star column\n",
    "\n",
    "1st row -> 4 star column\n",
    "\n",
    "2nd row -> 4 star column\n",
    "\n",
    "3rd row -> 4 star column"
   ]
  },
  {
   "cell_type": "code",
   "execution_count": 7,
   "id": "dea1b7d9",
   "metadata": {},
   "outputs": [
    {
     "name": "stdout",
     "output_type": "stream",
     "text": [
      "* * * * \n",
      "\n",
      "* * * * \n",
      "\n",
      "* * * * \n",
      "\n",
      "* * * * \n",
      "\n"
     ]
    }
   ],
   "source": [
    "def pattern1(n):\n",
    "    for i in range(0, n):\n",
    "        for j in range(0, n):\n",
    "            print(\"*\", end=\" \")\n",
    "        print(\"\\n\")\n",
    "\n",
    "pattern1(n=4)"
   ]
  },
  {
   "cell_type": "markdown",
   "id": "9d2edc5d",
   "metadata": {},
   "source": [
    "# Pattern 2\n",
    "\n",
    "# *\n",
    "# * *\n",
    "# * * *\n",
    "# * * * * \n",
    "# * * * * *"
   ]
  },
  {
   "cell_type": "markdown",
   "id": "8d8046eb",
   "metadata": {},
   "source": [
    "0th row -> 1 star column\n",
    "\n",
    "1th row -> 2 star column\n",
    "\n",
    "2nd row -> 3 star column\n",
    "\n",
    "3rd row -> 4 star column\n",
    "\n",
    "4th row -> 5 star column"
   ]
  },
  {
   "cell_type": "code",
   "execution_count": 13,
   "id": "10216d9a",
   "metadata": {},
   "outputs": [
    {
     "name": "stdout",
     "output_type": "stream",
     "text": [
      "* \n",
      "\n",
      "* * \n",
      "\n",
      "* * * \n",
      "\n",
      "* * * * \n",
      "\n",
      "* * * * * \n",
      "\n"
     ]
    }
   ],
   "source": [
    "def pattern2(n):\n",
    "    for i in range(0,n):\n",
    "        for j in range(0, i+1):\n",
    "            print(\"*\", end=\" \")\n",
    "        print(\"\\n\")\n",
    "\n",
    "pattern2(n=5)"
   ]
  },
  {
   "cell_type": "markdown",
   "id": "ff9326f9",
   "metadata": {},
   "source": [
    "# Pattern 3\n",
    "\n",
    "# 1\n",
    "# 1 2\n",
    "# 1 2 3\n",
    "# 1 2 3 4 \n",
    "# 1 2 3 4 5"
   ]
  },
  {
   "cell_type": "code",
   "execution_count": 23,
   "id": "7ff338d7",
   "metadata": {},
   "outputs": [
    {
     "name": "stdout",
     "output_type": "stream",
     "text": [
      "1 \n",
      "\n",
      "1 2 \n",
      "\n",
      "1 2 3 \n",
      "\n",
      "1 2 3 4 \n",
      "\n",
      "1 2 3 4 5 \n",
      "\n"
     ]
    }
   ],
   "source": [
    "def pattern3(n):\n",
    "    for i in range(1, n+1):\n",
    "        for j in range(1, i+1):\n",
    "            print(j, end=\" \")\n",
    "        print(\"\\n\")\n",
    "\n",
    "pattern3(n=5)"
   ]
  },
  {
   "cell_type": "markdown",
   "id": "d2daa607",
   "metadata": {},
   "source": [
    "# Pattern 4\n",
    "\n",
    "# 1\n",
    "# 2 2\n",
    "# 3 3 3\n",
    "# 4 4 4 4 \n",
    "# 5 5 5 5 5\n",
    "\n",
    "\n",
    "thought:\n",
    "\n",
    "need to print outer loop value (i) inside the inner loop (j)\n",
    "\n",
    "start from i = (1 -> n+1) and j = (0 -> i)\n"
   ]
  },
  {
   "cell_type": "code",
   "execution_count": 30,
   "id": "09cdec26",
   "metadata": {},
   "outputs": [
    {
     "name": "stdout",
     "output_type": "stream",
     "text": [
      "1 \n",
      "\n",
      "2 2 \n",
      "\n",
      "3 3 3 \n",
      "\n",
      "4 4 4 4 \n",
      "\n",
      "5 5 5 5 5 \n",
      "\n"
     ]
    }
   ],
   "source": [
    "def pattern4(n):\n",
    "    for i in range(1, n+1):\n",
    "        for j in range(0,i):\n",
    "            print(i, end=\" \")\n",
    "        print(\"\\n\")\n",
    "\n",
    "pattern4(n=5)"
   ]
  },
  {
   "cell_type": "markdown",
   "id": "5c6dd466",
   "metadata": {},
   "source": [
    "# Pattern 5\n",
    "\n",
    "# * * * * *\n",
    "# * * * *\n",
    "# * * *\n",
    "# * * \n",
    "# * \n",
    "\n",
    "\n",
    "thought:\n",
    "\n",
    "need to print inner loop value (j as *) inside the outer loop (i)\n",
    "\n",
    "start from i = 1 -> n+1 and j = (n+1) - i\n"
   ]
  },
  {
   "cell_type": "code",
   "execution_count": 31,
   "id": "bd8d405b",
   "metadata": {},
   "outputs": [
    {
     "name": "stdout",
     "output_type": "stream",
     "text": [
      "* * * * * \n",
      "\n",
      "* * * * \n",
      "\n",
      "* * * \n",
      "\n",
      "* * \n",
      "\n",
      "* \n",
      "\n"
     ]
    }
   ],
   "source": [
    "def pattern5(n):\n",
    "    for i in range(1, n+1):\n",
    "        for j in range((n+1)-i):\n",
    "            print(\"*\", end=\" \")\n",
    "        print(\"\\n\")\n",
    "\n",
    "pattern5(n=5)"
   ]
  },
  {
   "cell_type": "markdown",
   "id": "58445b10",
   "metadata": {},
   "source": [
    "# Pattern 6\n",
    "\n",
    "# 1 2 3 4 5\n",
    "# 1 2 3 4\n",
    "# 1 2 3\n",
    "# 1 2\n",
    "# 1\n",
    "\n",
    "\n",
    "thought:\n",
    "\n",
    "need to print outer loop value (j) inside the inner loop (i)\n",
    "\n",
    "start from i = 1 -> n+1 and j = (n+1) - i"
   ]
  },
  {
   "cell_type": "code",
   "execution_count": 34,
   "id": "3bce0021",
   "metadata": {},
   "outputs": [
    {
     "name": "stdout",
     "output_type": "stream",
     "text": [
      "1 2 3 4 5 \n",
      "\n",
      "1 2 3 4 \n",
      "\n",
      "1 2 3 \n",
      "\n",
      "1 2 \n",
      "\n",
      "1 \n",
      "\n"
     ]
    }
   ],
   "source": [
    "def pattern6(n):\n",
    "    for i in range(1, n+1):\n",
    "        for j in range((n+1)-i):\n",
    "            print(j+1, end=\" \")\n",
    "        print(\"\\n\")\n",
    "\n",
    "pattern6(n=5)"
   ]
  },
  {
   "cell_type": "markdown",
   "id": "155d935f",
   "metadata": {},
   "source": [
    "# Pattern 7\n",
    "\n",
    "```\n",
    "      *\n",
    "    * * *\n",
    "  * * * * *\n",
    "* * * * * * *\n",
    "```\n",
    "\n",
    "row 0 -> col [3,1,3], \n",
    "\n",
    "row 1 -> col [2,3,2], \n",
    "\n",
    "row 2 -> col [1,5,1], \n",
    "\n",
    "row 3 -> col [0,7,0]\n",
    "\n",
    "\n",
    "pattern:\n",
    "\n",
    "(n-i-1)(n*i+1)(n-i-1)"
   ]
  },
  {
   "cell_type": "code",
   "execution_count": 35,
   "id": "383b661d",
   "metadata": {},
   "outputs": [
    {
     "ename": "SyntaxError",
     "evalue": "expected ':' (3532979510.py, line 8)",
     "output_type": "error",
     "traceback": [
      "  \u001b[36mCell\u001b[39m\u001b[36m \u001b[39m\u001b[32mIn[35]\u001b[39m\u001b[32m, line 8\u001b[39m\n\u001b[31m    \u001b[39m\u001b[31mfor l in range(1, n-1)\u001b[39m\n                          ^\n\u001b[31mSyntaxError\u001b[39m\u001b[31m:\u001b[39m expected ':'\n"
     ]
    }
   ],
   "source": [
    "n = 4\n",
    "def pattern7(n):\n",
    "    for i in range(1, n+1):\n",
    "        for j in range(n-i):\n",
    "            print(\" \", end=\" \")\n",
    "        for k in range(i):\n",
    "            print(\"*\", end=\" \")\n",
    "        for l in range(1, n-1)\n"
   ]
  },
  {
   "cell_type": "code",
   "execution_count": null,
   "id": "a25b7c56",
   "metadata": {},
   "outputs": [],
   "source": []
  }
 ],
 "metadata": {
  "kernelspec": {
   "display_name": ".venv (3.13.5)",
   "language": "python",
   "name": "python3"
  },
  "language_info": {
   "codemirror_mode": {
    "name": "ipython",
    "version": 3
   },
   "file_extension": ".py",
   "mimetype": "text/x-python",
   "name": "python",
   "nbconvert_exporter": "python",
   "pygments_lexer": "ipython3",
   "version": "3.13.5"
  }
 },
 "nbformat": 4,
 "nbformat_minor": 5
}
