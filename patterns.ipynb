{
 "cells": [
  {
   "cell_type": "markdown",
   "id": "0d4e5571",
   "metadata": {},
   "source": [
    "# Pattern 1"
   ]
  },
  {
   "cell_type": "markdown",
   "id": "73e8d669",
   "metadata": {},
   "source": [
    "# * * * *\n",
    "# * * * *\n",
    "# * * * *\n",
    "# * * * *"
   ]
  },
  {
   "cell_type": "markdown",
   "id": "590adbe4",
   "metadata": {},
   "source": [
    "0th row -> 4 star column\n",
    "\n",
    "1st row -> 4 star column\n",
    "\n",
    "2nd row -> 4 star column\n",
    "\n",
    "3rd row -> 4 star column"
   ]
  },
  {
   "cell_type": "code",
   "execution_count": 7,
   "id": "dea1b7d9",
   "metadata": {},
   "outputs": [
    {
     "name": "stdout",
     "output_type": "stream",
     "text": [
      "* * * * \n",
      "\n",
      "* * * * \n",
      "\n",
      "* * * * \n",
      "\n",
      "* * * * \n",
      "\n"
     ]
    }
   ],
   "source": [
    "def pattern1(n):\n",
    "    for i in range(0, n):\n",
    "        for j in range(0, n):\n",
    "            print(\"*\", end=\" \")\n",
    "        print(\"\\n\")\n",
    "\n",
    "pattern1(n=4)"
   ]
  },
  {
   "cell_type": "markdown",
   "id": "9d2edc5d",
   "metadata": {},
   "source": [
    "# Pattern 2\n",
    "\n",
    "# *\n",
    "# * *\n",
    "# * * *\n",
    "# * * * * \n",
    "# * * * * *"
   ]
  },
  {
   "cell_type": "markdown",
   "id": "8d8046eb",
   "metadata": {},
   "source": [
    "0th row -> 1 star column\n",
    "\n",
    "1th row -> 2 star column\n",
    "\n",
    "2nd row -> 3 star column\n",
    "\n",
    "3rd row -> 4 star column\n",
    "\n",
    "4th row -> 5 star column"
   ]
  },
  {
   "cell_type": "code",
   "execution_count": 13,
   "id": "10216d9a",
   "metadata": {},
   "outputs": [
    {
     "name": "stdout",
     "output_type": "stream",
     "text": [
      "* \n",
      "\n",
      "* * \n",
      "\n",
      "* * * \n",
      "\n",
      "* * * * \n",
      "\n",
      "* * * * * \n",
      "\n"
     ]
    }
   ],
   "source": [
    "def pattern2(n):\n",
    "    for i in range(0,n):\n",
    "        for j in range(0, i+1):\n",
    "            print(\"*\", end=\" \")\n",
    "        print(\"\\n\")\n",
    "\n",
    "pattern2(n=5)"
   ]
  },
  {
   "cell_type": "markdown",
   "id": "ff9326f9",
   "metadata": {},
   "source": [
    "# Pattern 3\n",
    "\n",
    "# 1\n",
    "# 1 2\n",
    "# 1 2 3\n",
    "# 1 2 3 4 \n",
    "# 1 2 3 4 5"
   ]
  },
  {
   "cell_type": "code",
   "execution_count": 23,
   "id": "7ff338d7",
   "metadata": {},
   "outputs": [
    {
     "name": "stdout",
     "output_type": "stream",
     "text": [
      "1 \n",
      "\n",
      "1 2 \n",
      "\n",
      "1 2 3 \n",
      "\n",
      "1 2 3 4 \n",
      "\n",
      "1 2 3 4 5 \n",
      "\n"
     ]
    }
   ],
   "source": [
    "def pattern3(n):\n",
    "    for i in range(1, n+1):\n",
    "        for j in range(1, i+1):\n",
    "            print(j, end=\" \")\n",
    "        print(\"\\n\")\n",
    "\n",
    "pattern3(n=5)"
   ]
  },
  {
   "cell_type": "code",
   "execution_count": null,
   "id": "09cdec26",
   "metadata": {},
   "outputs": [],
   "source": []
  }
 ],
 "metadata": {
  "kernelspec": {
   "display_name": ".venv (3.13.5)",
   "language": "python",
   "name": "python3"
  },
  "language_info": {
   "codemirror_mode": {
    "name": "ipython",
    "version": 3
   },
   "file_extension": ".py",
   "mimetype": "text/x-python",
   "name": "python",
   "nbconvert_exporter": "python",
   "pygments_lexer": "ipython3",
   "version": "3.13.5"
  }
 },
 "nbformat": 4,
 "nbformat_minor": 5
}
